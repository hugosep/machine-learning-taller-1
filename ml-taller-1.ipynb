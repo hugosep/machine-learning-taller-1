{
 "cells": [
  {
   "cell_type": "code",
   "execution_count": null,
   "metadata": {},
   "outputs": [],
   "source": [
    "import numpy as np\n",
    "from sklearn.linear_model import Perceptron\n",
    "from sklearn.impute import KNNImputer\n",
    "import pandas as pd\n",
    "import matplotlib.pyplot as plt\n",
    "import seaborn as sns; sns.set()\n",
    "from sklearn.model_selection import train_test_split\n",
    "import warnings\n",
    "warnings.filterwarnings(\"ignore\")\n",
    "\n",
    "# seed\n",
    "np.random.seed(0)"
   ]
  },
  {
   "cell_type": "markdown",
   "metadata": {},
   "source": [
    "## Funciones para demostración empírica"
   ]
  },
  {
   "cell_type": "code",
   "execution_count": null,
   "metadata": {},
   "outputs": [],
   "source": [
    "\"\"\"\n",
    "    Gamma: retorna el margen\n",
    "    input:\n",
    "        X: numpy array (n, d)\n",
    "        Y: numpy array (n)\n",
    "    output:\n",
    "        gamma: float\n",
    "\"\"\"\n",
    "def gamma(X, Y):\n",
    "    perceptron = Perceptron(tol=None)\n",
    "    perceptron.fit(X, Y)\n",
    "    Y_predicted = perceptron.predict(X)\n",
    "    gamma = np.inf\n",
    "    \n",
    "    for i in range(X.shape[0]):\n",
    "        if Y[i] * Y_predicted[i] < gamma:\n",
    "            gamma = Y[i] * Y_predicted[i]\n",
    "        \n",
    "    return gamma\n",
    "\n",
    "\"\"\"\n",
    "    linearly_separable: Verifica si data es linealmente separable\n",
    "    input:\n",
    "        X: numpy array (n, d)\n",
    "        Y: numpy array (n)\n",
    "    output:\n",
    "        bool\n",
    "\"\"\"\n",
    "def linearly_separable(X, Y):\n",
    "    perceptron = Perceptron(tol=None)\n",
    "    perceptron.fit(X, Y)\n",
    "    Y_predicted = perceptron.predict(X)\n",
    "    \n",
    "    for i in range(X.shape[0]):\n",
    "        if Y[i] * Y_predicted[i] <= 0:\n",
    "            return False\n",
    "        \n",
    "    return True\n",
    "\n",
    "\"\"\"\n",
    "    convert_to_ls: borra elementos que no sirven\n",
    "    input:\n",
    "        X: numpy array (n, d)\n",
    "        Y: numpy array (n)\n",
    "    output:\n",
    "        X, Y\n",
    "\"\"\"\n",
    "def convert_to_ls(X, Y):\n",
    "    \n",
    "    perceptron = Perceptron(tol=None)\n",
    "    perceptron.fit(X, Y)\n",
    "    Y_predicted = perceptron.predict(X)\n",
    "    Y=np.array(Y)\n",
    "    X=np.array(X)\n",
    "    len_Y = Y.shape[0]\n",
    "    i = 0\n",
    "    \n",
    "    while i < len_Y:\n",
    "        if Y[i] * Y_predicted[i] <= 0:\n",
    " #           print(X.shape)\n",
    "  #          print(Y.shape)\n",
    "   #         print(i)\n",
    "    #        print(\"\\n\")            \n",
    "            Y = np.delete(Y, i,0)\n",
    "            X = np.delete(X, i,0)\n",
    "            Y_predicted = np.delete(Y_predicted, i)\n",
    "            \n",
    "            len_Y = Y.shape[0]\n",
    "        else :\n",
    "            i += 1\n",
    "    \n",
    "    return X, Y\n",
    "\n",
    "\"\"\"\n",
    "    max_norm: calcula la maxima norma de los vectores filas de X,\n",
    "        donde cada x_i es un vecetor de atributos\n",
    "    input:\n",
    "        X: numpy array\n",
    "    output:\n",
    "        max_norm_x: float\n",
    "\"\"\"\n",
    "def max_norm(X):\n",
    "    max_norm_x = 0\n",
    "    for x in X:\n",
    "        if np.linalg.norm(x) >= max_norm_x:\n",
    "            max_norm_x = np.linalg.norm(x)\n",
    "    return max_norm_x"
   ]
  },
  {
   "cell_type": "markdown",
   "metadata": {},
   "source": [
    "# Dataset 1"
   ]
  },
  {
   "cell_type": "markdown",
   "metadata": {},
   "source": [
    "## Carga data"
   ]
  },
  {
   "cell_type": "code",
   "execution_count": null,
   "metadata": {},
   "outputs": [],
   "source": [
    "data = pd.read_csv('datasets/breast-cancer-wisconsin.csv', sep=\",\")\n",
    "\n",
    "data.columns = [\n",
    "    \"ID\",\n",
    "    \"Clump Thickness\",\n",
    "    \"Uniformity of Cell Size\",\n",
    "    \"Uniformity of Cell Shape\",\n",
    "    \"Marginal Adhesion\",\n",
    "    \"Single Epithelial Cell Size\",\n",
    "    \"Bare Nuclei\",\n",
    "    \"Bland Chromatin\",\n",
    "    \"Normal Nucleoli\",\n",
    "    \"Mitoses\",\n",
    "    \"Result\"\n",
    "]\n",
    "\n",
    "print(\"Shape breast cancer wisconsin: \", data.shape)"
   ]
  },
  {
   "cell_type": "markdown",
   "metadata": {},
   "source": [
    "## Imputación (Knn) y detalles encoding"
   ]
  },
  {
   "cell_type": "code",
   "execution_count": null,
   "metadata": {},
   "outputs": [],
   "source": [
    "data = data.drop(\"ID\", axis=1)\n",
    "\n",
    "data = data.replace(['?'], np.nan)\n",
    "\n",
    "imputer = KNNImputer(n_neighbors=5)\n",
    "data = pd.DataFrame(imputer.fit_transform(data), columns = data.columns)\n",
    "\n",
    "\"\"\"data.loc[data['Result'] == \"Benign\", 'Result'] = 2\n",
    "data.loc[data['Result'] == \"Malignant\", 'Result'] = 4\n",
    "\"\"\"\n",
    "\n",
    "data.loc[data['Result'] == 2, 'Result'] = \"Benign\"\n",
    "data.loc[data['Result'] == 4, 'Result'] = \"Malignant\"\n",
    "\n",
    "print(\"Shape breast cancer wisconsin: \", data.shape)"
   ]
  },
  {
   "cell_type": "markdown",
   "metadata": {},
   "source": [
    "## Análisis exploratorio"
   ]
  },
  {
   "cell_type": "code",
   "execution_count": null,
   "metadata": {},
   "outputs": [],
   "source": [
    "fig, axes = plt.subplots(figsize=(16, 12), nrows=3, ncols=4)\n",
    "\n",
    "for i, column in enumerate(data.columns[:-1]):\n",
    "    for result in [\"Benign\", \"Malignant\"]:\n",
    "        target = data.loc[data['Result'] == result]\n",
    "        sns.distplot(target[column], rug=True, kde=True, ax=axes[i//4,i%4], label=result)\n",
    "    if i==0:\n",
    "        axes[0,0].legend()\n",
    "        \n",
    "\"\"\"data.loc[data['Result'] == \"Benign\", 'Result'] = 2\n",
    "data.loc[data['Result'] == \"Malignant\", 'Result'] = 4\"\"\"\n",
    "\n",
    "fig, ax = plt.subplots(figsize=(5, 5),nrows=1)\n",
    "sns.histplot(data=data[\"Result\"], palette=\"Blues_d\",ax=ax, label=[\"Benign\", \"Malignant\"])\n",
    "ax.set_title('Resultados')\n",
    "plt.show()"
   ]
  },
  {
   "cell_type": "markdown",
   "metadata": {},
   "source": [
    "## División data"
   ]
  },
  {
   "cell_type": "code",
   "execution_count": null,
   "metadata": {},
   "outputs": [],
   "source": [
    "data.loc[data[\"Result\"] == \"Benign\" ,\"Result\"] = 1\n",
    "data.loc[data[\"Result\"] == \"Malignant\", \"Result\"] = -1\n",
    "\n",
    "data[\"Result\"] = data[\"Result\"].astype(int)\n",
    "\n",
    "predictors = data.columns[:-1]\n",
    "X = data[predictors]\n",
    "info = data[predictors]\n",
    "\n",
    "y = data[\"Result\"]\n",
    "\n",
    "X_train, X_test, y_train, y_test, info_train, info_test = train_test_split(X, y, info, test_size=0.2, random_state=0)\n",
    "X_train, X_val, y_train, y_val, info_train, info_val = train_test_split(X_train, y_train, info_train, test_size=0.2, random_state=0)\n",
    "\n",
    "X_train_vals = X_train.values; y_train_vals = y_train.values;\n",
    "X_val_vals = X_val.values; y_val_vals = y_val.values;\n",
    "X_test_vals = X_test.values; y_test_vals = y_test.values;"
   ]
  },
  {
   "cell_type": "markdown",
   "metadata": {},
   "source": [
    "## $\\gamma$, R y cota"
   ]
  },
  {
   "cell_type": "code",
   "execution_count": null,
   "metadata": {},
   "outputs": [],
   "source": [
    "max_norm_dataset_1 = max_norm(X_train_vals)\n",
    "g = gamma(X, y)\n",
    "bound = max_norm_dataset_1**2 / g**2\n",
    "\n",
    "print(\"R:\", max_norm_dataset_1)\n",
    "print(\"Gamma: \", g)\n",
    "print(\"Cota: \", bound)\n",
    "print(\"Linealmente separables?:\", linearly_separable(X, y))"
   ]
  },
  {
   "cell_type": "markdown",
   "metadata": {},
   "source": [
    "## Perceptrón directo"
   ]
  },
  {
   "cell_type": "code",
   "execution_count": null,
   "metadata": {},
   "outputs": [],
   "source": [
    "scores = list()\n",
    "no_iterations = range(1, int(bound*2), 10)\n",
    "\n",
    "for i in no_iterations:\n",
    "    perceptron = Perceptron(tol=None, max_iter=i)\n",
    "    perceptron.fit(X_train_vals, y_train_vals)\n",
    "\n",
    "    train_acc = perceptron.score(X_train_vals, y_train_vals)\n",
    "    scores.append(perceptron.score(X_val_vals, y_val_vals))\n",
    "    test_acc = perceptron.score(X_test_vals, y_test_vals)\n",
    "    \n",
    "fig, ax1 = plt.subplots(figsize=(8, 5))\n",
    "\n",
    "fig.suptitle('Iteraciones v/s tiempo')\n",
    "\n",
    "ax1.plot(no_iterations, scores, '-', linewidth=0.5)"
   ]
  },
  {
   "cell_type": "markdown",
   "metadata": {},
   "source": [
    "## Perceptrón con datos linealmente separables"
   ]
  },
  {
   "cell_type": "code",
   "execution_count": null,
   "metadata": {},
   "outputs": [],
   "source": [
    "from sklearn.model_selection import train_test_split\n",
    "\n",
    "predictors = data.columns[:-1]\n",
    "X = data[predictors]\n",
    "info = data[predictors]\n",
    "\n",
    "y = data[\"Result\"]\n",
    "\n",
    "X, y = convert_to_ls(X, y)\n",
    "print(\"Datos convertidos?:\", linearly_separable(X, y))\n",
    "\n",
    "X=pd.DataFrame(X)\n",
    "y=pd.DataFrame(y)\n",
    "\n",
    "info = X\n",
    "\n",
    "X_train, X_test, y_train, y_test, info_train, info_test = train_test_split(X, y, info, test_size=0.2, random_state=0)\n",
    "X_train, X_val, y_train, y_val, info_train, info_val = train_test_split(X_train, y_train, info_train, test_size=0.2, random_state=0)\n",
    "\n",
    "X_train_vals = X_train.values; y_train_vals = y_train.values;\n",
    "X_val_vals = X_val.values; y_val_vals = y_val.values;\n",
    "X_test_vals = X_test.values; y_test_vals = y_test.values;\n",
    "\n",
    "scores = list()\n",
    "no_iterations = range(1, int(bound*0.3), 1)\n",
    "\n",
    "for i in no_iterations:\n",
    "    perceptron = Perceptron(tol=None, max_iter=i)\n",
    "    perceptron.fit(X_train_vals, y_train_vals)\n",
    "\n",
    "    train_acc = perceptron.score(X_train_vals, y_train_vals)\n",
    "    scores.append(perceptron.score(X_val_vals, y_val_vals))\n",
    "    test_acc = perceptron.score(X_test_vals, y_test_vals)\n",
    "    \n",
    "fig, ax1 = plt.subplots(figsize=(8, 5))\n",
    "\n",
    "fig.suptitle('Iteraciones v/s tiempo')\n",
    "\n",
    "ax1.plot(no_iterations, scores, '-o', linewidth=0.5)"
   ]
  },
  {
   "cell_type": "markdown",
   "metadata": {},
   "source": [
    "# Dataset 2"
   ]
  },
  {
   "cell_type": "markdown",
   "metadata": {},
   "source": [
    "## Carga dataset"
   ]
  },
  {
   "cell_type": "code",
   "execution_count": null,
   "metadata": {},
   "outputs": [],
   "source": [
    "data = pd.read_csv('datasets/Skin_NonSkin.txt', sep=\"\\t\")\n",
    "print(\"Nan?: \\n\", data.isna().sum())\n",
    "\n",
    "data.columns = [\"B\", \"G\", \"R\", \"SkinNonSkin\"]\n",
    "print(\"Shape SkinNonSkin: \", data.shape)"
   ]
  },
  {
   "cell_type": "markdown",
   "metadata": {},
   "source": [
    "## Análisis exploratorio"
   ]
  },
  {
   "cell_type": "code",
   "execution_count": null,
   "metadata": {},
   "outputs": [],
   "source": [
    "fig, axes = plt.subplots(figsize=(9*3, 9), nrows=1, ncols=3)\n",
    "\n",
    "\"\"\"data[data[\"SkinNonSkin\"]==1] = \"Skin\"\n",
    "data[data[\"SkinNonSkin\"]==2] = \"NonSkin\" \"\"\"\n",
    "\n",
    "for i, column in enumerate(data.columns[:-1]):\n",
    "    for result in [1, 2]:\n",
    "        target = data.loc[data['SkinNonSkin'] == result]\n",
    "        sns.distplot(target[column], rug=True, kde=True, ax=axes[i], label=result)\n",
    "    if i==0:\n",
    "        axes[0].legend()\n",
    "\n",
    "data.loc[data[\"SkinNonSkin\"] == 1, \"SkinNonSkin\"] = \"Skin\"\n",
    "data.loc[data[\"SkinNonSkin\"] == 2, \"SkinNonSkin\"] = \"NonSkin\"\n",
    "\n",
    "fig, ax = plt.subplots(figsize=(5, 5),nrows=1)\n",
    "sns.histplot(data=data[\"SkinNonSkin\"], palette=\"Blues_d\",ax=ax, label=[\"Skin\", \"NonSkin\"])\n",
    "ax.set_title('Resultados')\n",
    "plt.show()\n",
    "\n",
    "print(data)"
   ]
  },
  {
   "cell_type": "code",
   "execution_count": null,
   "metadata": {},
   "outputs": [],
   "source": [
    "data.loc[data[\"SkinNonSkin\"] == \"Skin\", \"SkinNonSkin\"] = 1\n",
    "data.loc[data[\"SkinNonSkin\"] == \"NonSkin\", \"SkinNonSkin\"] = -1\n",
    "\n",
    "data[\"SkinNonSkin\"] = data[\"SkinNonSkin\"].astype(int)\n",
    "\n",
    "predictors = data.columns[:-1]\n",
    "x = data[predictors]\n",
    "info = data[predictors]\n",
    "\n",
    "y = data[\"SkinNonSkin\"]\n",
    "\n",
    "from itertools import permutations \n",
    "\n",
    "perm = list(permutations(data.columns[:-1], 1)) + list(permutations(data.columns[:-1], 2))\n",
    "\n",
    "predictors = data.columns[:-1]\n",
    "x = data[predictors]\n",
    "info = data[predictors]\n",
    "\n",
    "X_train, X_test, y_train, y_test, info_train, info_test = train_test_split(x, y, info, test_size=0.9, random_state=0)\n",
    "X_train, X_val, y_train, y_val, info_train, info_val = train_test_split(X_train, y_train, info_train, test_size=0.9, random_state=0)\n",
    "\n",
    "X_train_vals = X_train.values; y_train_vals = y_train.values;\n",
    "X_val_vals = X_val.values; y_val_vals = y_val.values;\n",
    "X_test_vals = X_test.values; y_test_vals = y_test.values;\n",
    "\n",
    "print(X_val_vals.shape)\n",
    "\n",
    "X, Y = convert_to_ls(X_val_vals, y_val_vals)\n",
    "\n",
    "#print(linearly_separable(X, Y))\n",
    "    \n",
    "from pandas.plotting import scatter_matrix\n",
    "\n",
    "data = pd.DataFrame(X, columns=[\"B\", \"G\", \"R\"])\n",
    "data[\"SkinNonSkin\"] = Y\n",
    "\n",
    "max_norm_x = max_norm(X)\n",
    "g = gamma(X, Y)\n",
    "bound = max_norm_x**2 / g**2\n",
    "\n",
    "print(\"R:\", max_norm_x)\n",
    "print(\"Gamma: \", g)\n",
    "print(\"Cota: \", bound)"
   ]
  },
  {
   "cell_type": "code",
   "execution_count": null,
   "metadata": {},
   "outputs": [],
   "source": []
  },
  {
   "cell_type": "code",
   "execution_count": null,
   "metadata": {},
   "outputs": [],
   "source": []
  },
  {
   "cell_type": "code",
   "execution_count": null,
   "metadata": {},
   "outputs": [],
   "source": [
    "scores = list()\n",
    "\n",
    "for i in range(1, int(bound*1.1), 1000):\n",
    "    perceptron = Perceptron(tol=None, max_iter=i)\n",
    "    perceptron.fit(X, Y)\n",
    "    scores.append(perceptron.score(X, Y))\n",
    "\n",
    "fig, ax1 = plt.subplots()\n",
    "\n",
    "fig.suptitle('Iteraciones v/s tiempo')\n",
    "\n",
    "ax1.plot(range(1, int(bound*1.1), 1000), scores, 'o-')"
   ]
  },
  {
   "cell_type": "markdown",
   "metadata": {},
   "source": [
    "# Dataset 3"
   ]
  },
  {
   "cell_type": "markdown",
   "metadata": {},
   "source": [
    "### Para el dataset Iris, separamos los datos en 3 subdataset, donde el subdataset de las clases tipos Virginica-Versicolor es no-lineal, y los subdataset de Setosa-Virginica y Setosa-Versicolor  son linealmente separables."
   ]
  },
  {
   "cell_type": "markdown",
   "metadata": {},
   "source": [
    "## Análisis  Dataset Virginica-Versicolor"
   ]
  },
  {
   "cell_type": "markdown",
   "metadata": {},
   "source": [
    "## Carga data"
   ]
  },
  {
   "cell_type": "code",
   "execution_count": null,
   "metadata": {},
   "outputs": [],
   "source": [
    "data = pd.read_csv('datasets/iris-virgi-versi.data', sep=\",\")\n",
    "\n",
    "data.columns = [\n",
    "    \"sepal length\",\n",
    "    \"sepal width\",\n",
    "    \"petal length\",\n",
    "    \"petal width\",\n",
    "    \"class\"    \n",
    "]\n",
    "\n",
    "print(\"Shape subdataset Virginica-Versicolor: \", data.shape)"
   ]
  },
  {
   "cell_type": "markdown",
   "metadata": {},
   "source": [
    "## Análisis exploratorio"
   ]
  },
  {
   "cell_type": "code",
   "execution_count": null,
   "metadata": {},
   "outputs": [],
   "source": [
    "data.loc[data['class'] == 'Iris-virginica', 'class'] = -1\n",
    "data.loc[data['class'] == 'Iris-versicolor', 'class'] = 1\n",
    "\n",
    "fig, axes = plt.subplots(figsize=(16, 12), nrows=2, ncols=2)\n",
    "for i, column in enumerate(data.columns[:-1]):\n",
    "    for result in [-1, 1]:\n",
    "      target = data.loc[data['class'] == result]\n",
    "      sns.distplot(target[column], rug=True, kde=True, ax=axes[i//2,i%2], label=result)\n",
    "      if i==0:\n",
    "        axes[0,0].legend()\n",
    "        \n",
    "fig, ax = plt.subplots(figsize=(5, 5),nrows=1)\n",
    "sns.histplot(data=data[\"class\"], palette=\"Blues_d\",ax=ax, label=[\"Iris-virginica\", \"Iris-versicolor\"])\n",
    "ax.set_title('Resultados')\n",
    "plt.show()"
   ]
  },
  {
   "cell_type": "markdown",
   "metadata": {},
   "source": [
    "## División data"
   ]
  },
  {
   "cell_type": "code",
   "execution_count": null,
   "metadata": {},
   "outputs": [],
   "source": [
    "data[\"class\"] = data[\"class\"].astype(int)\n",
    "print(data)\n",
    "predictors = data.columns[:-1]\n",
    "X = data[predictors]\n",
    "info = data[predictors]\n",
    "\n",
    "y = data[\"class\"]\n",
    "\n",
    "X_train, X_test, y_train, y_test, info_train, info_test = train_test_split(X, y, info, test_size=0.2, random_state=0)\n",
    "X_train, X_val, y_train, y_val, info_train, info_val = train_test_split(X_train, y_train, info_train, test_size=0.2, random_state=0)\n",
    "\n",
    "X_train_vals = X_train.values; y_train_vals = y_train.values;\n",
    "X_val_vals = X_val.values; y_val_vals = y_val.values;\n",
    "X_test_vals = X_test.values; y_test_vals = y_test.values;"
   ]
  },
  {
   "cell_type": "markdown",
   "metadata": {},
   "source": [
    "## $\\gamma$, R y cota"
   ]
  },
  {
   "cell_type": "code",
   "execution_count": null,
   "metadata": {},
   "outputs": [],
   "source": [
    "max_norm_dataset_1 = max_norm(X_train_vals)\n",
    "g = gamma(X, y)\n",
    "bound = max_norm_dataset_1**2 / g**2\n",
    "\n",
    "print(\"R:\", max_norm_dataset_1)\n",
    "print(\"Gamma: \", g)\n",
    "print(\"Cota: \", bound)\n",
    "print(\"Linealmente separables?:\", linearly_separable(X, y))"
   ]
  },
  {
   "cell_type": "markdown",
   "metadata": {},
   "source": [
    "## Perceptrón directo"
   ]
  },
  {
   "cell_type": "code",
   "execution_count": null,
   "metadata": {},
   "outputs": [],
   "source": [
    "scores = list()\n",
    "no_iterations = range(1, int(bound*1.5), 10)\n",
    "\n",
    "for i in no_iterations:\n",
    "    perceptron = Perceptron(tol=None, max_iter=i)\n",
    "    perceptron.fit(X_train_vals, y_train_vals)    \n",
    "    train_acc = perceptron.score(X_train_vals, y_train_vals)    \n",
    "    scores.append(perceptron.score(X_val_vals, y_val_vals))\n",
    "    test_acc = perceptron.score(X_test_vals, y_test_vals)\n",
    "    \n",
    "fig, ax1 = plt.subplots(figsize=(8, 5))\n",
    "\n",
    "fig.suptitle('Iteraciones v/s tiempo')\n",
    "\n",
    "ax1.plot(no_iterations, scores, '-o', linewidth=0.5)"
   ]
  },
  {
   "cell_type": "markdown",
   "metadata": {},
   "source": [
    "## Perceptrón con datos linealmente separables"
   ]
  },
  {
   "cell_type": "code",
   "execution_count": null,
   "metadata": {},
   "outputs": [],
   "source": [
    "from sklearn.model_selection import train_test_split\n",
    "\n",
    "predictors = data.columns[:-1]\n",
    "X = data[predictors]\n",
    "y = data[\"class\"]\n",
    "X, y = convert_to_ls(X, y)\n",
    "print(\"Datos convertidos?:\", linearly_separable(X, y))\n",
    "\n",
    "X=pd.DataFrame(X)\n",
    "y=pd.DataFrame(y)\n",
    "\n",
    "X_train, X_test, y_train, y_test, info_train, info_test = train_test_split(X, y, X, test_size=0.2, random_state=0)\n",
    "X_train, X_val, y_train, y_val, info_train, info_val = train_test_split(X_train, y_train, info_train, test_size=0.2, random_state=0)\n",
    "\n",
    "X_train_vals = X_train.values; y_train_vals = y_train.values;\n",
    "X_val_vals = X_val.values; y_val_vals = y_val.values;\n",
    "X_test_vals = X_test.values; y_test_vals = y_test.values;\n",
    "\n",
    "scores = list()\n",
    "no_iterations = range(1, int(bound*1.5), 10)\n",
    "\n",
    "for i in no_iterations:\n",
    "    perceptron = Perceptron(tol=None, max_iter=i)\n",
    "    perceptron.fit(X_train_vals, y_train_vals)\n",
    "\n",
    "    train_acc = perceptron.score(X_train_vals, y_train_vals)\n",
    "    scores.append(perceptron.score(X_val_vals, y_val_vals))\n",
    "    test_acc = perceptron.score(X_test_vals, y_test_vals)\n",
    "    \n",
    "fig, ax1 = plt.subplots(figsize=(8, 5))\n",
    "\n",
    "fig.suptitle('Iteraciones v/s tiempo')\n",
    "\n",
    "ax1.plot(no_iterations, scores, '-o', linewidth=0.5)"
   ]
  },
  {
   "cell_type": "markdown",
   "metadata": {},
   "source": [
    "## Análisis  Dataset Setosa-Versicolor"
   ]
  },
  {
   "cell_type": "markdown",
   "metadata": {},
   "source": [
    "## Carga data"
   ]
  },
  {
   "cell_type": "code",
   "execution_count": null,
   "metadata": {},
   "outputs": [],
   "source": [
    "data = pd.read_csv('datasets/iris-setosa-versi.data', sep=\",\")\n",
    "\n",
    "data.columns = [\n",
    "    \"sepal length\",\n",
    "    \"sepal width\",\n",
    "    \"petal length\",\n",
    "    \"petal width\",\n",
    "    \"class\"    \n",
    "]\n",
    "\n",
    "print(\"Shape subdataset Setosa-Versicolor: \", data.shape)"
   ]
  },
  {
   "cell_type": "markdown",
   "metadata": {},
   "source": [
    "## Análisis exploratorio"
   ]
  },
  {
   "cell_type": "code",
   "execution_count": null,
   "metadata": {},
   "outputs": [],
   "source": [
    "data.loc[data['class'] == 'Iris-setosa', 'class'] = -1\n",
    "data.loc[data['class'] == 'Iris-versicolor', 'class'] = 1\n",
    "\n",
    "fig, axes = plt.subplots(figsize=(16, 12), nrows=2, ncols=2)\n",
    "for i, column in enumerate(data.columns[:-1]):\n",
    "    for result in [-1, 1]:\n",
    "      target = data.loc[data['class'] == result]\n",
    "      sns.distplot(target[column], rug=True, kde=True, ax=axes[i//2,i%2], label=result)\n",
    "      if i==0:\n",
    "        axes[0,0].legend()\n",
    "        \n",
    "fig, ax = plt.subplots(figsize=(5, 5),nrows=1)\n",
    "sns.histplot(data=data[\"class\"], palette=\"Blues_d\",ax=ax, label=[\"Iris-virginica\", \"Iris-versicolor\"])\n",
    "ax.set_title('Resultados')\n",
    "plt.show()"
   ]
  },
  {
   "cell_type": "markdown",
   "metadata": {},
   "source": [
    "## División data"
   ]
  },
  {
   "cell_type": "code",
   "execution_count": null,
   "metadata": {},
   "outputs": [],
   "source": [
    "data[\"class\"] = data[\"class\"].astype(int)\n",
    "print(data)\n",
    "predictors = data.columns[:-1]\n",
    "X = data[predictors]\n",
    "info = data[predictors]\n",
    "\n",
    "y = data[\"class\"]\n",
    "\n",
    "X_train, X_test, y_train, y_test, info_train, info_test = train_test_split(X, y, info, test_size=0.2, random_state=0)\n",
    "X_train, X_val, y_train, y_val, info_train, info_val = train_test_split(X_train, y_train, info_train, test_size=0.2, random_state=0)\n",
    "\n",
    "X_train_vals = X_train.values; y_train_vals = y_train.values;\n",
    "X_val_vals = X_val.values; y_val_vals = y_val.values;\n",
    "X_test_vals = X_test.values; y_test_vals = y_test.values;"
   ]
  },
  {
   "cell_type": "markdown",
   "metadata": {},
   "source": [
    "## $\\gamma$, R y cota"
   ]
  },
  {
   "cell_type": "code",
   "execution_count": null,
   "metadata": {},
   "outputs": [],
   "source": [
    "max_norm_dataset_1 = max_norm(X_train_vals)\n",
    "g = gamma(X, y)\n",
    "bound = max_norm_dataset_1**2 / g**2\n",
    "\n",
    "print(\"R:\", max_norm_dataset_1)\n",
    "print(\"Gamma: \", g)\n",
    "print(\"Cota: \", bound)\n",
    "print(\"Linealmente separables?:\", linearly_separable(X, y))"
   ]
  },
  {
   "cell_type": "markdown",
   "metadata": {},
   "source": [
    "## Perceptrón directo"
   ]
  },
  {
   "cell_type": "code",
   "execution_count": null,
   "metadata": {},
   "outputs": [],
   "source": [
    "scores = list()\n",
    "no_iterations = range(1, int(bound*1.5), 10)\n",
    "for i in no_iterations:\n",
    "    perceptron = Perceptron(tol=None, max_iter=i)\n",
    "    perceptron.fit(X_train_vals, y_train_vals)    \n",
    "    train_acc = perceptron.score(X_train_vals, y_train_vals)    \n",
    "    scores.append(perceptron.score(X_val_vals, y_val_vals))\n",
    "    test_acc = perceptron.score(X_test_vals, y_test_vals)\n",
    "    \n",
    "fig, ax1 = plt.subplots(figsize=(8, 5))\n",
    "\n",
    "fig.suptitle('Iteraciones v/s tiempo')\n",
    "\n",
    "ax1.plot(no_iterations, scores, '-o', linewidth=0.5)"
   ]
  },
  {
   "cell_type": "markdown",
   "metadata": {},
   "source": [
    "## Análisis  Dataset Setosa-Virginica"
   ]
  },
  {
   "cell_type": "markdown",
   "metadata": {},
   "source": [
    "## Carga data"
   ]
  },
  {
   "cell_type": "code",
   "execution_count": null,
   "metadata": {},
   "outputs": [],
   "source": [
    "data = pd.read_csv('datasets/iris-setosa-virgi.data', sep=\",\")\n",
    "\n",
    "data.columns = [\n",
    "    \"sepal length\",\n",
    "    \"sepal width\",\n",
    "    \"petal length\",\n",
    "    \"petal width\",\n",
    "    \"class\"    \n",
    "]\n",
    "\n",
    "print(\"Shape subdataset Setosa-Virginica: \", data.shape)"
   ]
  },
  {
   "cell_type": "markdown",
   "metadata": {},
   "source": [
    "## Análisis exploratorio"
   ]
  },
  {
   "cell_type": "code",
   "execution_count": null,
   "metadata": {},
   "outputs": [],
   "source": [
    "data.loc[data['class'] == 'Iris-setosa', 'class'] = -1\n",
    "data.loc[data['class'] == 'Iris-virginica', 'class'] = 1\n",
    "\n",
    "fig, axes = plt.subplots(figsize=(16, 12), nrows=2, ncols=2)\n",
    "for i, column in enumerate(data.columns[:-1]):\n",
    "    for result in [-1, 1]:\n",
    "      target = data.loc[data['class'] == result]\n",
    "      sns.distplot(target[column], rug=True, kde=True, ax=axes[i//2,i%2], label=result)\n",
    "      if i==0:\n",
    "        axes[0,0].legend()\n",
    "        \n",
    "fig, ax = plt.subplots(figsize=(5, 5),nrows=1)\n",
    "sns.histplot(data=data[\"class\"], palette=\"Blues_d\",ax=ax, label=[\"Iris-virginica\", \"Iris-versicolor\"])\n",
    "ax.set_title('Resultados')\n",
    "plt.show()"
   ]
  },
  {
   "cell_type": "markdown",
   "metadata": {},
   "source": [
    "## División data"
   ]
  },
  {
   "cell_type": "code",
   "execution_count": null,
   "metadata": {},
   "outputs": [],
   "source": [
    "data[\"class\"] = data[\"class\"].astype(int)\n",
    "print(data)\n",
    "predictors = data.columns[:-1]\n",
    "X = data[predictors]\n",
    "info = data[predictors]\n",
    "\n",
    "y = data[\"class\"]\n",
    "\n",
    "X_train, X_test, y_train, y_test, info_train, info_test = train_test_split(X, y, info, test_size=0.2, random_state=0)\n",
    "X_train, X_val, y_train, y_val, info_train, info_val = train_test_split(X_train, y_train, info_train, test_size=0.2, random_state=0)\n",
    "\n",
    "X_train_vals = X_train.values; y_train_vals = y_train.values;\n",
    "X_val_vals = X_val.values; y_val_vals = y_val.values;\n",
    "X_test_vals = X_test.values; y_test_vals = y_test.values;"
   ]
  },
  {
   "cell_type": "markdown",
   "metadata": {},
   "source": [
    "## $\\gamma$, R y cota"
   ]
  },
  {
   "cell_type": "code",
   "execution_count": null,
   "metadata": {},
   "outputs": [],
   "source": [
    "max_norm_dataset_1 = max_norm(X_train_vals)\n",
    "g = gamma(X, y)\n",
    "bound = max_norm_dataset_1**2 / g**2\n",
    "\n",
    "print(\"R:\", max_norm_dataset_1)\n",
    "print(\"Gamma: \", g)\n",
    "print(\"Cota: \", bound)\n",
    "print(\"Linealmente separables?:\", linearly_separable(X, y))"
   ]
  },
  {
   "cell_type": "markdown",
   "metadata": {},
   "source": [
    "## Perceptrón directo"
   ]
  },
  {
   "cell_type": "code",
   "execution_count": null,
   "metadata": {},
   "outputs": [],
   "source": [
    "scores = list()\n",
    "no_iterations = range(1, int(bound*1.5), 10)\n",
    "for i in no_iterations:\n",
    "    perceptron = Perceptron(tol=None, max_iter=i)\n",
    "    perceptron.fit(X_train_vals, y_train_vals)    \n",
    "    train_acc = perceptron.score(X_train_vals, y_train_vals)    \n",
    "    scores.append(perceptron.score(X_val_vals, y_val_vals))\n",
    "    test_acc = perceptron.score(X_test_vals, y_test_vals)\n",
    "    \n",
    "fig, ax1 = plt.subplots(figsize=(8, 5))\n",
    "\n",
    "fig.suptitle('Iteraciones v/s tiempo')\n",
    "\n",
    "ax1.plot(no_iterations, scores, '-o', linewidth=0.5)"
   ]
  },
  {
   "cell_type": "markdown",
   "metadata": {},
   "source": [
    "### Referencias\n",
    "#### Binaries\n",
    "\n",
    "* No Dataset breast-cancer-wisconsin\n",
    "Dataset iris "
   ]
  }
 ],
 "metadata": {
  "kernelspec": {
   "display_name": "Python 3",
   "language": "python",
   "name": "python3"
  },
  "language_info": {
   "codemirror_mode": {
    "name": "ipython",
    "version": 3
   },
   "file_extension": ".py",
   "mimetype": "text/x-python",
   "name": "python",
   "nbconvert_exporter": "python",
   "pygments_lexer": "ipython3",
   "version": "3.8.5"
  }
 },
 "nbformat": 4,
 "nbformat_minor": 4
}
